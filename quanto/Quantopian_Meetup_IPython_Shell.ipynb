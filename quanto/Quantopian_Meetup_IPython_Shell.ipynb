{
 "metadata": {
  "kernelspec": {
   "codemirror_mode": {
    "name": "ipython",
    "version": 2
   },
   "display_name": "IPython (Python 2)",
   "language": "python",
   "name": "python2"
  },
  "name": "",
  "signature": "sha256:69edfca8ed8a825c591e3f5385640a83d01cc40b8c07db06ba3fae866b2504b7"
 },
 "nbformat": 3,
 "nbformat_minor": 0,
 "worksheets": [
  {
   "cells": [
    {
     "cell_type": "markdown",
     "metadata": {},
     "source": [
      "# The IPython Shell\n",
      "*(Note: If you're looking at this notebook after the presentation, this portion of the talk was given at the interactive IPython console.  The cells here were used as notes, and describe roughly what appeared on the screen."
     ]
    },
    {
     "cell_type": "markdown",
     "metadata": {},
     "source": [
      "###Learn Your Keybinds!\n",
      "\n",
      "These commands aren't IPython-specific, but learning them will make your\n",
      "command-line life much better.  \n",
      "\n",
      "Commands listed in **bold** also work in `IPython Notebook`.\n",
      "\n",
      "- **`CTRL-f`** -> Move Cursor Forward One Character.\n",
      "- **`CTRL-b`** -> Move Cursor Backward One Character.\n",
      "- **`ALT-f`** -> Move Cursor Forward One Word.\n",
      "- **`ALT-b`** -> Move Cursor Backward One Word.\n",
      "- **`CTRL-a`** -> Move Cursor to Line Start.\n",
      "- **`CTRL-e`** -> Move Cursor to Line End.\n",
      "- **`CTRL-k`** -> Cut to End of Line.\n",
      "- `CTRL-y` -> Paste to End of Line.\n",
      "- `CTRL-r` -> Reverse Incremental Search (aka search history matching what you type).\n",
      "- `CTRL-p` -> Previous History Entry.\n",
      "- `CTRL-n` -> Next History Entry.\n",
      "- `CTRL-l` -> Clear Screen.\n",
      "- `CTRL-c` -> Interrupt Current Execution.\n",
      "- `CTRL-d` -> Shutdown."
     ]
    },
    {
     "cell_type": "code",
     "collapsed": false,
     "input": [
      "###Learn Your Keybinds!"
     ],
     "language": "python",
     "metadata": {},
     "outputs": []
    },
    {
     "cell_type": "markdown",
     "metadata": {},
     "source": [
      "##IPython Magics: Shell Emulation\n",
      "IPython has various built-in **magic functions** that extend standard Python syntax.  Many IPython magics provide aliases of common shell commands.\n",
      "\n",
      "```python\n",
      "In [1]: %ls\n",
      "Quantopian-Meetup-Talk-Notes.ipynb\n",
      "Quantopian_Meetup_Pandas.ipynb\n",
      "Quantopian_Meetup_Talk_IPython_Goodies.ipynb\n",
      "Quantopian_Meetup_Zipline.ipynb\n",
      "secret_quantopian_stuff/\n",
      "\n",
      "In [2]: %cd secret_quantopian_stuff/\n",
      "/Users/ssanderson/projects/notebooks/quanto/secret_quantopian_stuff\n",
      "In [3]: %ls\n",
      "kittens/         secret_plans.py\n",
      "\n",
      "In [4]: %cat secret_plans.py\n",
      "print \\\n",
      "\"\"\"\n",
      "Step 1: Make awesome tools for Quants.\n",
      "Step 2: ????????\n",
      "Step 3: Profit!\n",
      "\"\"\"\n",
      "In [5]: ! open kittens/super_secret_kitten.jpg\n",
      "```\n",
      "<img \n",
      "    align=left\n",
      "    width=30%\n",
      "    src=\"secret_quantopian_stuff/kittens/super_secret_kitten.jpg\"\n",
      "    style=\"margin-left:30px\"\n",
      "/>"
     ]
    },
    {
     "cell_type": "markdown",
     "metadata": {},
     "source": [
      "###More Builtin Shell Command Aliases\n",
      "  - `%cd`               -> Change Directory.\n",
      "  - `%ls`               -> List Directory Content.\n",
      "  - `%env`              -> List Environment Variables.\n",
      "  - `%cat`              -> Print Contents of File.\n",
      "  - `%mv`               -> Move a File/Directory.\n",
      "  - `%rm`               -> Remove a File/Directory.\n",
      "  - `%mkdir`            -> Make a directory.\n",
      "  - `%man`              -> View a man page."
     ]
    },
    {
     "cell_type": "markdown",
     "metadata": {},
     "source": [
      "###Defining Custom Shell Commands\n",
      "  - `%alias <alias-name> <command>` -> Bind an alias to a command.\n",
      "  - `! <command>`                   -> Run <command>, printing its output.\n",
      "  - `!! <command>`                  -> Run <command>, capturing its output as a list."
     ]
    },
    {
     "cell_type": "markdown",
     "metadata": {},
     "source": [
      "####Example: Use git from IPython\n",
      "```\n",
      "In [1]: alias git git\n",
      "\n",
      "In [2]: git status\n",
      "On branch master\n",
      "Your branch is up-to-date with 'origin/master'.\n",
      "\n",
      "nothing to commit, working directory clean\n",
      "```\n"
     ]
    },
    {
     "cell_type": "markdown",
     "metadata": {},
     "source": [
      "####Example: Use Unix Pipes to Create a Complex Shell Command\n",
      "Suppose we want a list of the currently running `ipython` process ids.  This requires a moderate amount of code to do correctly in Python, requiring us to use `psutil` and iterate over the output of `psutil.process_iter()`.  Using the `!!` magic, however, we can write this using Unix pipes in two lines.\n",
      "```\n",
      "In [1]: ipython_pid_strings = !! ps | grep ipython | cut -d't' -f1\n",
      "\n",
      "In [2]: map(int, ipython_pid_strings)\n",
      "Out[2]: [23546, 34983, 35040, 35042, 35048, 37696, 37703, 37827, 38290, 38291, 38293]\n",
      "```\n",
      "\n",
      "The above pipeline says roughly:\n",
      "1. Run `ps` to print the list of currently running processes.\n",
      "2. Filter the output of `ps` with `grep` to get just the lines that have the word 'ipython' in them.\n",
      "3. Break each line into sub-sections with `cut`, using the letter `t` as a\n",
      "   delimiter.  Then select just the first subsection of each line.  (The `-d`\n",
      "   flag says to use a specific delimiter, and the `-f` flag says which \n",
      "   subsections to keep.)\n",
      "4. Convert the resulting text output into a list of integers that we can use\n",
      "   in our shell."
     ]
    },
    {
     "cell_type": "markdown",
     "metadata": {},
     "source": [
      "###Editing Long Commands:\n",
      "```\n",
      "In [1]: edit\n",
      "IPython will make a temporary file named: /var/folders/bunch/of/gibberish.py\n",
      "```\n",
      "Edit file in your `$EDITOR` of choice and quit when done.\n",
      "```python\n",
      "class Foo(object):\n",
      "    def bar(self, x):\n",
      "           print x\n",
      "        \n",
      "foo = Foo()\n",
      "foo.bar(3)\n",
      "```\n",
      "```\n",
      "done. Executing edited code...\n",
      "3\n",
      "Out[1]: 'class Foo(object):\\n\\n    def bar(self, x):\\n        print x\\n\\n\\nfoo = Foo()\\nfoo.bar(3)\\n'\n",
      "```"
     ]
    },
    {
     "cell_type": "markdown",
     "metadata": {},
     "source": [
      "###Convenience Features: Autocomplete\n",
      "\n",
      "You can autocomplete any variable name currently in your namespace with `TAB`.\n",
      "```\n",
      "big_variable_name = 5\n",
      "big_<TAB> -> Autocomplete variable name.\n",
      "```\n",
      "Autocomplete also works on attributes of objects.\n",
      "```\n",
      "import pandas\n",
      "pandas.<TAB> -> Show top-level pandas attributes.\n",
      "```"
     ]
    },
    {
     "cell_type": "markdown",
     "metadata": {},
     "source": [
      "###Convenience Features: Documentation\n",
      "You can get information about any callable object by evaluating `<obj>?` or `<obj>??`.\n",
      "These are syntactic sugar for the `pinfo` and `pinfo2` magics, respectively.\n",
      "```\n",
      "import pandas\n",
      "pandas.DataFrame? -> Show docstring.\n",
      "pandas.DataFrame.plot?? -> Show source.\n",
      "```\n",
      "\n",
      "```\n",
      "import zipline; zipline.<TAB> -> Autocomplete to zipline.data.loader.load_bars_from_yahoo\n",
      "load_bars_from_yahoo(stocks=['AAPL', 'TSLA'])\n",
      "```\n",
      "I wish someone would do a tutorial on how to use this cool-looking `Panel` class..."
     ]
    },
    {
     "cell_type": "markdown",
     "metadata": {},
     "source": [
      "###Convenience Features: History\n",
      "You can view your command history with\n",
      "```\n",
      "history\n",
      "```\n",
      "You can output your history to a file with\n",
      "```\n",
      "history -f <filename>\n",
      "```\n",
      "As mentioned above, you can search through your recent command history with\n",
      "**CTRL-r** "
     ]
    },
    {
     "cell_type": "markdown",
     "metadata": {},
     "source": [
      "###And More...\n",
      "```\n",
      "%quickref -> Show Output\n",
      "```"
     ]
    },
    {
     "cell_type": "markdown",
     "metadata": {},
     "source": [
      "###Further Reading:\n",
      "1. [Configuration and Profiles](http://ipython.org/ipython-doc/dev/config/intro.html)\n",
      "2. [Output Caching](http://ipython.org/ipython-doc/dev/interactive/reference.html#output-caching-system)\n",
      "3. [Defining Custom Magics](http://ipython.org/ipython-doc/dev/config/custommagics.html#defining-magics)"
     ]
    }
   ],
   "metadata": {}
  }
 ]
}