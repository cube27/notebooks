{
 "metadata": {
  "name": "",
  "signature": "sha256:ccb98f0ba8c656da5d36377b1fe79f7750cbbdd7d4583cb93335f79746a3ea96"
 },
 "nbformat": 3,
 "nbformat_minor": 0,
 "worksheets": [
  {
   "cells": [
    {
     "cell_type": "code",
     "collapsed": true,
     "input": [
      "# This is a python execution cell.\n",
      "# Anything you could do in a python shell or script, you can do here.\n",
      "\n",
      "# To execute a cell, type CTRL-Enter.\n",
      "# You can also type SHIFT-Enter to execute and move to the next cell,\n",
      "# and you can type OPTION-Enter to execute and insert a new cell below.\n",
      "\n",
      "def foo():\n",
      "    print \"IPython Notebook is Awesome!\"\n",
      "\n",
      "foo()\n",
      "\n",
      "# The last expression in a cell is always displayed as the cell's output when\n",
      "# it's executed.\n",
      "[1,2,3,4]"
     ],
     "language": "python",
     "metadata": {},
     "outputs": [
      {
       "output_type": "stream",
       "stream": "stdout",
       "text": [
        "IPython Notebook is Awesome!\n"
       ]
      },
      {
       "metadata": {},
       "output_type": "pyout",
       "prompt_number": 27,
       "text": [
        "[1, 2, 3, 4]"
       ]
      }
     ],
     "prompt_number": 27
    },
    {
     "cell_type": "raw",
     "metadata": {},
     "source": [
      "IPython Notebook supports more than just Python cells.  This is a raw text\n",
      "cell.  Use it to insert unformatted text between cells."
     ]
    },
    {
     "cell_type": "heading",
     "level": 1,
     "metadata": {},
     "source": [
      "This is a level 1 header cell."
     ]
    },
    {
     "cell_type": "heading",
     "level": 2,
     "metadata": {},
     "source": [
      "This is a level 2 header cell."
     ]
    },
    {
     "cell_type": "heading",
     "level": 3,
     "metadata": {},
     "source": [
      "This is a level 3 header cell."
     ]
    },
    {
     "cell_type": "heading",
     "level": 4,
     "metadata": {},
     "source": [
      "This is a level 4 header cell."
     ]
    },
    {
     "cell_type": "heading",
     "level": 5,
     "metadata": {},
     "source": [
      "This is a level 5 header cell."
     ]
    },
    {
     "cell_type": "heading",
     "level": 6,
     "metadata": {},
     "source": [
      "This is a level 6 header cell."
     ]
    },
    {
     "cell_type": "markdown",
     "metadata": {},
     "source": [
      "This is a [Markdown](http://daringfireball.net/projects/markdown/) cell.\n",
      "\n",
      "> Markdown is a text-to-HTML conversion tool for web writers. Markdown allows\n",
      "  you to write using an easy-to-read, easy-to-write plain text format, then\n",
      "  convert it to structurally valid XHTML (or HTML). \n",
      "\n",
      "- Markdown supports bulleted lists.\n",
      "  - You can nest lists as deep as you want.\n",
      "    - List elements don't have to be text either.\n",
      "      - ![So much deeper!](http://static3.wikia.nocookie.net/__cb20130123200725/glee/images/6/6f/We-need-to-go-deeper_inception.jpg)\n",
      "  - Reasons to like Markdown:\n",
      "    1. It also supports numbered lists.\n",
      "    2. It has support for `code()` formatting.\n",
      "    3. You can embed arbitrary HTML\n",
      "       <table>\n",
      "         <tr><td>Such as,</td><td>for example,</td></tr>\n",
      "         <tr><td>a table.</td><td></td></tr>\n",
      "       </table>\n",
      "\n",
      "    4. It even has support for code blocks:\n",
      "\n",
      "            class  Monad m  where\n",
      "                (>>=)            :: m a -> (a -> m b) -> m b\n",
      "                (>>)             :: m a -> m b -> m b\n",
      "                return           :: a -> m a\n",
      "                fail             :: String -> m a\n",
      "                m >> k           =  m >>= \\_ -> k"
     ]
    },
    {
     "cell_type": "markdown",
     "metadata": {},
     "source": [
      "General Command-Line Navigation\n",
      "-------------------------------\n",
      "\n",
      "These commands aren't IPython-specific, but learning them will make your\n",
      "command-line life much better.  Commands listed in **bold** also work in\n",
      "`IPython Notebook`.\n",
      "\n",
      "- `CTRL-f` -> Move Cursor Forward One Character.\n",
      "- `CTRL-b` -> Move Cursor Backward One Character.\n",
      "- `META-f` -> Move Cursor Forward One Word.\n",
      "- `META-b` -> Move Cursor Backward One Word.\n",
      "- `CTRL-a` -> Move Cursor to Line Start.\n",
      "- `CTRL-e` -> Move Cursor to Line End.\n",
      "- `CTRL-k` -> Cut to End of Line.\n",
      "- `CTRL-y` -> Paste to End of Line.\n",
      "- `CTRL-r` -> Reverse Incremental Search (aka search history matching what you type).\n",
      "- `CTRL-p` -> Previous History Entry.\n",
      "- `CTRL-n` -> Next History Entry.\n",
      "- `CTRL-l` -> Clear Screen.\n",
      "- `CTRL-c` -> Interrupt Current Expression.\n",
      "- `CTRL-d` -> Shutdown."
     ]
    },
    {
     "cell_type": "markdown",
     "metadata": {},
     "source": [
      "Code Introspection\n",
      "------------------\n",
      "\n",
      "* Autocomplete and Inline Documentation\n",
      "  * Pressing the TAB key part of the way through a variable name autocompletes that name.\n",
      "  * Autocomplete also works on attributes (e.g. `pandas.DataF<TAB> -> pandas.DataFrame`).\n",
      "  * You can bring up documentation for a function or class inline with SHIFT+TAB\n",
      "* Looking up Docstrings:\n",
      "  * Typing `<expression>?` shows the function signature and documentation for that expression.\n",
      "  * Typing `<expression>??` takes you to the source code for the expression."
     ]
    },
    {
     "cell_type": "markdown",
     "metadata": {},
     "source": [
      "####Execute this cell before trying the autocomplete examples in the next cell."
     ]
    },
    {
     "cell_type": "code",
     "collapsed": false,
     "input": [
      "import pandas\n",
      "class Example(object):\n",
      "    \"\"\"\n",
      "    A class-level docstring.\n",
      "    \"\"\"\n",
      "    def __init__(self, x, y=3):\n",
      "        \"\"\"\n",
      "        Constructor docstring. SHIFT+TAB will show you this first line.\n",
      "        \n",
      "        SHIFT + two TABs will show you the entire docstring.\n",
      "        \"\"\"\n",
      "        self.x, self.y = x, y\n",
      "        \n",
      "long_variable_name = Point(3,4)"
     ],
     "language": "python",
     "metadata": {},
     "outputs": [],
     "prompt_number": 31
    },
    {
     "cell_type": "markdown",
     "metadata": {},
     "source": [
      "####Try it out!"
     ]
    },
    {
     "cell_type": "code",
     "collapsed": false,
     "input": [
      "pand     # Pressing TAB here will autocomplete pandas.\n",
      "pandas.  # Pressing TAB here will show you the top-level attributes of pandas.\n",
      "pandas.D # Pressing TAB here will show you DataFrame, DatetimeIndex, and DateOffset.\n",
      "pandas.DataFrame. # Pressing TAB here will show you methods and attributes of DataFrame.\n",
      "\n",
      "long_               # Pressing TAB here will autocomplete long_variable_name\n",
      "\n",
      "                    # Hold SHIFT and press TAB with your cursor in \n",
      "x = Example()       # the parentheses to see info on how to make a Point object.\n",
      "                 "
     ],
     "language": "python",
     "metadata": {},
     "outputs": []
    },
    {
     "cell_type": "code",
     "collapsed": false,
     "input": [
      "pandas.DataFrame?"
     ],
     "language": "python",
     "metadata": {},
     "outputs": [],
     "prompt_number": 32
    },
    {
     "cell_type": "code",
     "collapsed": false,
     "input": [
      "pandas.DataFrame??"
     ],
     "language": "python",
     "metadata": {},
     "outputs": [],
     "prompt_number": 33
    },
    {
     "cell_type": "markdown",
     "metadata": {},
     "source": [
      "IPython Magics:\n",
      "---------------\n",
      "(Note: If you have the `%automagic` setting turned on, you can\n",
      " omit the % from these commands.)"
     ]
    },
    {
     "cell_type": "markdown",
     "metadata": {},
     "source": [
      "###Built-in Aliases for Shell Commands\n",
      "  - `%cd`               -> Change Directory.\n",
      "  - `%ls`               -> List Directory Content.\n",
      "  - `%env`              -> List Environment Variables.\n",
      "  - `%cat`              -> Print Contents of File.\n",
      "  - `%pycat`            -> Pretty-Print Contents of Python File.\n",
      "  - `%mv`               -> Move a File/Directory.\n",
      "  - `%rm`               -> Remove a File/Directory.\n",
      "  - `%mkdir`            -> Make a directory.\n",
      "  - `%man`              -> View a man page."
     ]
    },
    {
     "cell_type": "markdown",
     "metadata": {},
     "source": [
      "###Defining Your Own Shell Commands:\n",
      "  - `%alias <alias-name> <command>` -> Bind an alias to a command.\n",
      "  - `! <command>`                   -> Run <command>, printing its output.\n",
      "  - `!! <command>`                  -> Run <command>, capturing its output as a list."
     ]
    },
    {
     "cell_type": "markdown",
     "metadata": {},
     "source": [
      "####Examples:\n",
      "(Note that these will only work in the IPython Shell, not in a Notebook.)\n",
      "\n",
      "Defining an Alias:\n",
      "    %alias safari open -a Safari\n",
      "    safari secret_quantopian_stuff/kittens/super_secret_kitten.jpg\n",
      "\n",
      "Using Unix Pipes to Create a Complex Command:\n",
      "\n",
      "Suppose we want to do the following:\n",
      "\n",
      "1. Run `ps` to print the list of currently running processes.\n",
      "\n",
      "2. Filter the output of `ps` with `grep` to get just the\n",
      "   process rows that have the word 'ipython' in them.\n",
      "\n",
      "3. Break each line into sub-sections with `cut`, using the letter `t` as a\n",
      "   delimiter.  Then select just the first subsection of each line.  (The `-d`\n",
      "   flag says to use a specific delimiter, and the `-f` flag says which \n",
      "   subsections to keep.)\n",
      "   \n",
      "4. Convert the resulting text output into a list of integers that we can use\n",
      "   in our shell.\n",
      "\n",
      "We express the above as:\n",
      "\n",
      "    ipython_pid_strings = !! ps | grep ipython | cut -d't' -f1\n",
      "    ipython_pids = map(int, pids)"
     ]
    },
    {
     "cell_type": "markdown",
     "metadata": {},
     "source": [
      "###Reusing/Sharing Sessions:\n",
      "  - `%history`               -> Show all the commands that have been typed this session.\n",
      "  - `%macro`              -> Bind a set of previously executed lines to macro name.\n",
      "  - Logging:\n",
      "    - `%logstart`           -> Start Logging Commands to a Local File\n",
      "    - `%logon/logoff`    -> Toggle Logging on/off.\n",
      "    - `%logstate`           -> Get the current logging state.\n",
      "  - %pastebin           -> Upload the contents of a string/macro/file to Gist, returning the URL."
     ]
    },
    {
     "cell_type": "code",
     "collapsed": false,
     "input": [
      "# IPython also provides the IPython package, which contains lots of cool stuff.\n",
      "\n",
      "from IPython.display import Math\n",
      "Math(r'w_A = \\frac{\\sigma_B - Cov(r_A, r_B)}{\\sigma_B^2 + \\sigma_A^2 - 2 Cov(r_A, r_B)}')"
     ],
     "language": "python",
     "metadata": {},
     "outputs": [
      {
       "latex": [
        "$$w_A = \\frac{\\sigma_B - Cov(r_A, r_B)}{\\sigma_B^2 + \\sigma_A^2 - 2 Cov(r_A, r_B)}$$"
       ],
       "metadata": {},
       "output_type": "pyout",
       "prompt_number": 36,
       "text": [
        "<IPython.core.display.Math at 0x10a215850>"
       ]
      }
     ],
     "prompt_number": 36
    },
    {
     "cell_type": "code",
     "collapsed": false,
     "input": [
      "# There is a ton of useful functionality that we haven't even touched on.\n",
      "%quickref"
     ],
     "language": "python",
     "metadata": {},
     "outputs": [],
     "prompt_number": 37
    },
    {
     "cell_type": "markdown",
     "metadata": {},
     "source": [
      "#TODO:\n",
      " - Cell Magics\n",
      " - Widgets\n",
      " - IPython Parallel\n",
      " - Custom HTML object display\n",
      " - ...?"
     ]
    }
   ],
   "metadata": {}
  }
 ]
}