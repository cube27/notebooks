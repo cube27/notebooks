{
 "metadata": {
  "kernelspec": {
   "codemirror_mode": {
    "name": "ipython",
    "version": 2
   },
   "display_name": "IPython (Python 2)",
   "language": "python",
   "name": "python2"
  },
  "name": "",
  "signature": "sha256:da0e9f0a9572f345438b695cf1923dd2dab12fe3b9285b438e41b8a678d04ccb"
 },
 "nbformat": 3,
 "nbformat_minor": 0,
 "worksheets": [
  {
   "cells": [
    {
     "cell_type": "markdown",
     "metadata": {},
     "source": [
      "#IPython Notebook"
     ]
    },
    {
     "cell_type": "code",
     "collapsed": true,
     "input": [
      "# This is a python execution cell.\n",
      "# Anything you could do in a python shell or script, you can do here.\n",
      "\n",
      "# To execute a cell, type CTRL-Enter.\n",
      "# You can also type SHIFT-Enter to execute and move to the next cell,\n",
      "# and you can type OPTION-Enter to execute and insert a new cell below.\n",
      "\n",
      "def foo():\n",
      "    print \"IPython Notebook is Awesome!\"\n",
      "\n",
      "foo()\n",
      "\n",
      "# The last expression in a cell is always displayed as the cell's output when\n",
      "# it's executed.\n",
      "[1,2,3,4]"
     ],
     "language": "python",
     "metadata": {},
     "outputs": []
    },
    {
     "cell_type": "raw",
     "metadata": {},
     "source": [
      "IPython Notebook supports more than just Python cells.  This is a raw text\n",
      "cell.  Use it to insert unformatted text between cells."
     ]
    },
    {
     "cell_type": "heading",
     "level": 1,
     "metadata": {},
     "source": [
      "This is a level 1 header cell."
     ]
    },
    {
     "cell_type": "heading",
     "level": 2,
     "metadata": {},
     "source": [
      "This is a level 2 header cell."
     ]
    },
    {
     "cell_type": "heading",
     "level": 3,
     "metadata": {},
     "source": [
      "This is a level 3 header cell."
     ]
    },
    {
     "cell_type": "heading",
     "level": 4,
     "metadata": {},
     "source": [
      "This is a level 4 header cell."
     ]
    },
    {
     "cell_type": "heading",
     "level": 5,
     "metadata": {},
     "source": [
      "This is a level 5 header cell."
     ]
    },
    {
     "cell_type": "heading",
     "level": 6,
     "metadata": {},
     "source": [
      "This is a level 6 header cell."
     ]
    },
    {
     "cell_type": "markdown",
     "metadata": {},
     "source": [
      "###This is a [Markdown](http://daringfireball.net/projects/markdown/) cell.\n",
      "\n",
      "> Markdown is a text-to-HTML conversion tool for web writers. Markdown allows\n",
      "  you to write using an easy-to-read, easy-to-write plain text format, then\n",
      "  convert it to structurally valid XHTML (or HTML). \n",
      "\n",
      "- Markdown supports bulleted lists.\n",
      "  - You can nest lists as deep as you want.\n",
      "    - List elements don't have to be text either.\n",
      "      - ![So much deeper!](http://static3.wikia.nocookie.net/__cb20130123200725/glee/images/6/6f/We-need-to-go-deeper_inception.jpg)\n",
      "  - Reasons to like Markdown:\n",
      "    1. It also supports numbered lists.\n",
      "    2. It has support for `code()` formatting.\n",
      "    3. You can embed arbitrary HTML\n",
      "       <table>\n",
      "         <tr><td>Such as,</td><td>for example,</td></tr>\n",
      "         <tr><td>a table.</td><td></td></tr>\n",
      "       </table>\n",
      "\n",
      "    4. It even has support for code blocks:\n",
      "\n",
      "            class  Monad m  where\n",
      "                (>>=)            :: m a -> (a -> m b) -> m b\n",
      "                (>>)             :: m a -> m b -> m b\n",
      "                return           :: a -> m a\n",
      "                fail             :: String -> m a\n",
      "                m >> k           =  m >>= \\_ -> k"
     ]
    },
    {
     "cell_type": "markdown",
     "metadata": {},
     "source": [
      "##Notebook Magics:\n",
      "**Most** of the magics that work in the `IPython` shell also work in the notebook.  Additionally, there are some magics that **only** work in the notebook.\n",
      "###Autocomplete and Inline Documentation\n",
      "  * Pressing the `TAB` key part of the way through a variable name autocompletes that name.\n",
      "  * Autocomplete also works on attributes (e.g. `pandas.DataF<TAB> -> pandas.DataFrame`).\n",
      "  * You can bring up documentation for a function or class inline with SHIFT+TAB"
     ]
    },
    {
     "cell_type": "markdown",
     "metadata": {},
     "source": [
      "####Execute this cell before trying the autocomplete examples in the next cell."
     ]
    },
    {
     "cell_type": "code",
     "collapsed": false,
     "input": [
      "import pandas\n",
      "class Point(object):\n",
      "    \"\"\"\n",
      "    A class-level docstring.\n",
      "    \"\"\"\n",
      "    def __init__(self, x, y=3):\n",
      "        \"\"\"\n",
      "        Constructor docstring. SHIFT+TAB will show you this first line.\n",
      "        \n",
      "        SHIFT + two TABs will show you the entire docstring.\n",
      "        \"\"\"\n",
      "        self.x, self.y = x, y\n",
      "        \n",
      "long_variable_name = Point(3,4)"
     ],
     "language": "python",
     "metadata": {},
     "outputs": []
    },
    {
     "cell_type": "markdown",
     "metadata": {},
     "source": [
      "####Try it out!"
     ]
    },
    {
     "cell_type": "code",
     "collapsed": false,
     "input": [
      "pandas              # Pressing TAB here will autocomplete pandas.\n",
      "pandas           # Pressing TAB here will show you the top-level attributes of pandas.\n",
      "pandas.DateOffset          # Pressing TAB here will show you DataFrame, DatetimeIndex, and DateOffset.\n",
      "pandas.DataFrame # Pressing TAB here will show you methods and attributes of DataFrame.\n",
      "\n",
      "long_variable_name             # Pressing TAB here will autocomplete long_variable_name\n",
      "\n",
      "                  # Hold SHIFT and press TAB with your cursor in \n",
      "x = Point(1,2)       # the parentheses to see info on how to make a Point object."
     ],
     "language": "python",
     "metadata": {},
     "outputs": []
    },
    {
     "cell_type": "markdown",
     "metadata": {},
     "source": [
      "###Documentation:\n",
      "  * Typing `<expression>?` shows the function signature and documentation for that expression.\n",
      "  * Typing `<expression>??` takes you to the source code for the expression.\n",
      "  * You can also use the `pinfo` and `pinfo2` magics to get the same info.\n",
      "  * **Notebook Only:** Press `SHIFT+TAB` while hovering over an object to open in-line documentation for that callable."
     ]
    },
    {
     "cell_type": "code",
     "collapsed": false,
     "input": [
      "pandas.DataFrame?"
     ],
     "language": "python",
     "metadata": {},
     "outputs": []
    },
    {
     "cell_type": "code",
     "collapsed": false,
     "input": [
      "pandas.DataFrame.plot??"
     ],
     "language": "python",
     "metadata": {},
     "outputs": []
    },
    {
     "cell_type": "markdown",
     "metadata": {},
     "source": [
      "##Cell Magics\n",
      "In addition to all the magics we saw above, there are additional magics that operate at the cell level.  Many of these are focused around interoperation with other languages."
     ]
    },
    {
     "cell_type": "markdown",
     "metadata": {},
     "source": [
      "###Javascript"
     ]
    },
    {
     "cell_type": "code",
     "collapsed": false,
     "input": [
      "%%javascript\n",
      "alert('foo')"
     ],
     "language": "python",
     "metadata": {},
     "outputs": []
    },
    {
     "cell_type": "markdown",
     "metadata": {},
     "source": [
      "###R\n",
      "Some cell magics are provided by **extensions**.  Here we load the `rpy2`'s cell magic for interacting with `R`."
     ]
    },
    {
     "cell_type": "code",
     "collapsed": false,
     "input": [
      "%load_ext rpy2.ipython"
     ],
     "language": "python",
     "metadata": {},
     "outputs": []
    },
    {
     "cell_type": "code",
     "collapsed": false,
     "input": [
      "import pandas as pd\n",
      "import numpy as np\n",
      "\n",
      "df = pd.DataFrame(np.random.randn(10,5), columns=['A','B','C','D','E'])\n",
      "df"
     ],
     "language": "python",
     "metadata": {},
     "outputs": []
    },
    {
     "cell_type": "code",
     "collapsed": false,
     "input": [
      "# Push our DataFrame into R.\n",
      "%Rpush df"
     ],
     "language": "python",
     "metadata": {},
     "outputs": []
    },
    {
     "cell_type": "code",
     "collapsed": false,
     "input": [
      "%%R\n",
      "# Despite also being valid python, this is actually R code!\n",
      "col_A = df['A']\n",
      "plot(col_A)"
     ],
     "language": "python",
     "metadata": {},
     "outputs": []
    },
    {
     "cell_type": "code",
     "collapsed": false,
     "input": [
      "# We can also pull values back out of R!\n",
      "%Rpull col_A\n",
      "col_A"
     ],
     "language": "python",
     "metadata": {},
     "outputs": []
    },
    {
     "cell_type": "markdown",
     "metadata": {},
     "source": [
      "##Builtin Rich Display Formats\n",
      "IPython supports a wide array of rich display formats, including:\n",
      "* LaTeX\n",
      "* Markdown\n",
      "* HTML\n",
      "* SVG\n",
      "* PNG\n",
      "\n",
      "...and more"
     ]
    },
    {
     "cell_type": "code",
     "collapsed": false,
     "input": [
      "import IPython.display\n",
      "dir(IPython.display)[:18]"
     ],
     "language": "python",
     "metadata": {},
     "outputs": []
    },
    {
     "cell_type": "markdown",
     "metadata": {},
     "source": [
      "###LaTeX"
     ]
    },
    {
     "cell_type": "code",
     "collapsed": false,
     "input": [
      "from IPython.display import Math\n",
      "Math(r'w_A = \\frac{\\sigma_B - Cov(r_A, r_B)}{\\sigma_B^2 + \\sigma_A^2 - 2 Cov(r_A, r_B)}')"
     ],
     "language": "python",
     "metadata": {},
     "outputs": []
    },
    {
     "cell_type": "markdown",
     "metadata": {},
     "source": [
      "###HTML"
     ]
    },
    {
     "cell_type": "code",
     "collapsed": false,
     "input": [
      "from IPython.display import HTML\n",
      "HTML('''\\\n",
      "To learn more about IPython's rich display capabilities, click\n",
      "<a href=\"http://ipython.org/ipython-doc/dev/config/integrating.html\">here</a>.\n",
      "''')"
     ],
     "language": "python",
     "metadata": {},
     "outputs": []
    },
    {
     "cell_type": "markdown",
     "metadata": {},
     "source": [
      "###YouTube Video"
     ]
    },
    {
     "cell_type": "code",
     "collapsed": false,
     "input": [
      "from IPython.display import YouTubeVideo\n",
      "YouTubeVideo(\"https://www.youtube.com/watch?v=B_XiSozs-SE\")"
     ],
     "language": "python",
     "metadata": {},
     "outputs": []
    },
    {
     "cell_type": "markdown",
     "metadata": {},
     "source": [
      "### Customizing Object Display\n",
      "If a class implements one of many `_repr_` methods, IPython will use that method to display the object."
     ]
    },
    {
     "cell_type": "code",
     "collapsed": false,
     "input": [
      "class Table(object):\n",
      "    \"\"\"\n",
      "    A simple table represented as a list of lists.\n",
      "    \"\"\"\n",
      "\n",
      "    def __init__(self, lists):\n",
      "        self.lists = lists\n",
      "        \n",
      "    def make_row(self, l):\n",
      "        columns = ''.join('<td>{value}</td>'.format(value=value) for value in l)\n",
      "        return '<tr>{columns}</tr>'.format(columns=columns)\n",
      "        \n",
      "    def _repr_html_(self):\n",
      "        rows = ''.join(self.make_row(l) for l in self.lists)\n",
      "        return \"<table>{rows}</table>\".format(rows=rows)"
     ],
     "language": "python",
     "metadata": {},
     "outputs": []
    },
    {
     "cell_type": "code",
     "collapsed": false,
     "input": [
      "Table(\n",
      "    [\n",
      "        [1,2,3], \n",
      "        [4,5,6]\n",
      "    ]\n",
      ")"
     ],
     "language": "python",
     "metadata": {},
     "outputs": []
    },
    {
     "cell_type": "markdown",
     "metadata": {},
     "source": [
      "##Further Reading:\n",
      "   * [UI Widgets](http://nbviewer.ipython.org/github/ipython/ipython/blob/2.x/examples/Interactive%20Widgets/Index.ipynb)\n",
      "   * [IPython Parallel](http://ipython.org/ipython-doc/dev/parallel)\n",
      "   * [IPython Extensions](http://ipython.org/ipython-doc/dev/config/extensions)\n",
      "   * [Custom Language Kernels](http://ipython.org/ipython-doc/dev/development/kernels.html)"
     ]
    }
   ],
   "metadata": {}
  }
 ]
}