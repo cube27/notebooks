{
 "metadata": {
  "name": ""
 },
 "nbformat": 3,
 "nbformat_minor": 0,
 "worksheets": [
  {
   "cells": [
    {
     "cell_type": "markdown",
     "metadata": {},
     "source": [
      "<img src=http://pandas.pydata.org/_static/pandas_logo.png></img>"
     ]
    },
    {
     "cell_type": "code",
     "collapsed": false,
     "input": [
      "import pandas as pd\n",
      "import numpy as np\n",
      "import matplotlib.pyplot as plt\n",
      "randn = np.random.randn"
     ],
     "language": "python",
     "metadata": {},
     "outputs": [],
     "prompt_number": 1
    },
    {
     "cell_type": "markdown",
     "metadata": {},
     "source": [
      "# The `Series` class"
     ]
    },
    {
     "cell_type": "code",
     "collapsed": false,
     "input": [
      "s = pd.Series([3,5,7,2])\n",
      "s"
     ],
     "language": "python",
     "metadata": {},
     "outputs": [
      {
       "metadata": {},
       "output_type": "pyout",
       "prompt_number": 2,
       "text": [
        "0    3\n",
        "1    5\n",
        "2    7\n",
        "3    2\n",
        "dtype: int64"
       ]
      }
     ],
     "prompt_number": 2
    },
    {
     "cell_type": "code",
     "collapsed": false,
     "input": [
      "# An important concept to understand when working with a `Series` is that it's\n",
      "# actually composed of two pieces: an index array, and a data array.\n",
      "\n",
      "print \"The index is {0}.\".format(s.index)\n",
      "print \"The values are {0}.\".format(s.values)"
     ],
     "language": "python",
     "metadata": {},
     "outputs": [
      {
       "output_type": "stream",
       "stream": "stdout",
       "text": [
        "The index is Int64Index([0, 1, 2, 3], dtype='int64').\n",
        "The values are [3 5 7 2].\n"
       ]
      }
     ],
     "prompt_number": 3
    },
    {
     "cell_type": "code",
     "collapsed": false,
     "input": [
      "# You can explicitly pass your own labels to use as an index.  If you don't\n",
      "# Pandas will construct a default index with integer labels.\n",
      "pd.Series(np.random.randn(4), index=['a', 'b', 'c', 'd'])"
     ],
     "language": "python",
     "metadata": {},
     "outputs": [
      {
       "metadata": {},
       "output_type": "pyout",
       "prompt_number": 4,
       "text": [
        "a   -0.751505\n",
        "b    0.203135\n",
        "c   -0.372644\n",
        "d    1.173541\n",
        "dtype: float64"
       ]
      }
     ],
     "prompt_number": 4
    },
    {
     "cell_type": "code",
     "collapsed": false,
     "input": [
      "# You can also construct a Series from a dictionary.\n",
      "# The keys are used as the index, and the values are used as the columns.\n",
      "pd.Series({'a': 1, 'b': 2, 'c': 3})"
     ],
     "language": "python",
     "metadata": {},
     "outputs": [
      {
       "metadata": {},
       "output_type": "pyout",
       "prompt_number": 5,
       "text": [
        "a    1\n",
        "b    2\n",
        "c    3\n",
        "dtype: int64"
       ]
      }
     ],
     "prompt_number": 5
    },
    {
     "cell_type": "code",
     "collapsed": false,
     "input": [
      "# You get performance (and code clarity!) benefits if your Series'\n",
      "# labels/values are homogenously-typed, but mixed-type arrays are supported.\n",
      "pd.Series([1, 2.6, 'a', {'a': 'b'}], index=[1, 'a', 2, 2.5])"
     ],
     "language": "python",
     "metadata": {},
     "outputs": [
      {
       "metadata": {},
       "output_type": "pyout",
       "prompt_number": 6,
       "text": [
        "1                 1\n",
        "a               2.6\n",
        "2                 a\n",
        "2.5    {u'a': u'b'}\n",
        "dtype: object"
       ]
      }
     ],
     "prompt_number": 6
    },
    {
     "cell_type": "markdown",
     "metadata": {},
     "source": [
      "`Series` combines the conveniences of key-value dictionary lookups with the\n",
      "powerful slicing semantics of python lists."
     ]
    },
    {
     "cell_type": "code",
     "collapsed": false,
     "input": [
      "s = pd.Series(range(10), index=list('ABCDEFGHIJ'))\n",
      "s"
     ],
     "language": "python",
     "metadata": {},
     "outputs": [
      {
       "metadata": {},
       "output_type": "pyout",
       "prompt_number": 7,
       "text": [
        "A    0\n",
        "B    1\n",
        "C    2\n",
        "D    3\n",
        "E    4\n",
        "F    5\n",
        "G    6\n",
        "H    7\n",
        "I    8\n",
        "J    9\n",
        "dtype: int64"
       ]
      }
     ],
     "prompt_number": 7
    },
    {
     "cell_type": "code",
     "collapsed": false,
     "input": [
      "# Dictionary-style lookups work as you'd expect.\n",
      "s['E']"
     ],
     "language": "python",
     "metadata": {},
     "outputs": [
      {
       "metadata": {},
       "output_type": "pyout",
       "prompt_number": 8,
       "text": [
        "4"
       ]
      }
     ],
     "prompt_number": 8
    },
    {
     "cell_type": "code",
     "collapsed": false,
     "input": [
      "# We can look up multiple values at a time by passing a list of keys.\n",
      "# The resulting value is a new `Series`.\n",
      "s[['E', 'I', 'B']]"
     ],
     "language": "python",
     "metadata": {},
     "outputs": [
      {
       "metadata": {},
       "output_type": "pyout",
       "prompt_number": 9,
       "text": [
        "E    4\n",
        "I    8\n",
        "B    1\n",
        "dtype: int64"
       ]
      }
     ],
     "prompt_number": 9
    },
    {
     "cell_type": "code",
     "collapsed": false,
     "input": [
      "# Because the Index is ordered, we can use Python's slicing syntax.\n",
      "s['E':]"
     ],
     "language": "python",
     "metadata": {},
     "outputs": [
      {
       "metadata": {},
       "output_type": "pyout",
       "prompt_number": 10,
       "text": [
        "E    4\n",
        "F    5\n",
        "G    6\n",
        "H    7\n",
        "I    8\n",
        "J    9\n",
        "dtype: int64"
       ]
      }
     ],
     "prompt_number": 10
    },
    {
     "cell_type": "code",
     "collapsed": false,
     "input": [
      " # Label-based slicing is inclusive of both endpoints.\n",
      "s[:'I']"
     ],
     "language": "python",
     "metadata": {},
     "outputs": [
      {
       "metadata": {},
       "output_type": "pyout",
       "prompt_number": 11,
       "text": [
        "A    0\n",
        "B    1\n",
        "C    2\n",
        "D    3\n",
        "E    4\n",
        "F    5\n",
        "G    6\n",
        "H    7\n",
        "I    8\n",
        "dtype: int64"
       ]
      }
     ],
     "prompt_number": 11
    },
    {
     "cell_type": "code",
     "collapsed": false,
     "input": [
      "s['E':'I']"
     ],
     "language": "python",
     "metadata": {},
     "outputs": [
      {
       "metadata": {},
       "output_type": "pyout",
       "prompt_number": 12,
       "text": [
        "E    4\n",
        "F    5\n",
        "G    6\n",
        "H    7\n",
        "I    8\n",
        "dtype: int64"
       ]
      }
     ],
     "prompt_number": 12
    },
    {
     "cell_type": "code",
     "collapsed": false,
     "input": [
      "s['E':'I':2]"
     ],
     "language": "python",
     "metadata": {},
     "outputs": [
      {
       "metadata": {},
       "output_type": "pyout",
       "prompt_number": 13,
       "text": [
        "E    4\n",
        "G    6\n",
        "I    8\n",
        "dtype: int64"
       ]
      }
     ],
     "prompt_number": 13
    },
    {
     "cell_type": "code",
     "collapsed": false,
     "input": [
      "# If you don't know the label you want, but you do know the position, you can\n",
      "# use `iloc`.\n",
      "(s.iloc[1], s.iloc[-1])"
     ],
     "language": "python",
     "metadata": {},
     "outputs": [
      {
       "metadata": {},
       "output_type": "pyout",
       "prompt_number": 14,
       "text": [
        "(1, 9)"
       ]
      }
     ],
     "prompt_number": 14
    },
    {
     "cell_type": "code",
     "collapsed": false,
     "input": [
      "# Slicing works with `iloc` as well.\n",
      "\n",
      "# Note that, unlike with label-based slicing, integer-based slices are\n",
      "# right-open intervals, i.e. doing s.iloc[X:Y] gives you elements with indices\n",
      "# in [X, Y).  This is the same as the semantics for list slicing.\n",
      "\n",
      "s.iloc[5:]"
     ],
     "language": "python",
     "metadata": {},
     "outputs": [
      {
       "metadata": {},
       "output_type": "pyout",
       "prompt_number": 15,
       "text": [
        "F    5\n",
        "G    6\n",
        "H    7\n",
        "I    8\n",
        "J    9\n",
        "dtype: int64"
       ]
      }
     ],
     "prompt_number": 15
    },
    {
     "cell_type": "code",
     "collapsed": false,
     "input": [
      "print s.iloc[:5]"
     ],
     "language": "python",
     "metadata": {},
     "outputs": [
      {
       "output_type": "stream",
       "stream": "stdout",
       "text": [
        "A    0\n",
        "B    1\n",
        "C    2\n",
        "D    3\n",
        "E    4\n",
        "dtype: int64\n"
       ]
      }
     ],
     "prompt_number": 16
    },
    {
     "cell_type": "code",
     "collapsed": false,
     "input": [
      "s.iloc[-3:]"
     ],
     "language": "python",
     "metadata": {},
     "outputs": [
      {
       "metadata": {},
       "output_type": "pyout",
       "prompt_number": 17,
       "text": [
        "H    7\n",
        "I    8\n",
        "J    9\n",
        "dtype: int64"
       ]
      }
     ],
     "prompt_number": 17
    },
    {
     "cell_type": "code",
     "collapsed": false,
     "input": [
      "s.iloc[5:8]"
     ],
     "language": "python",
     "metadata": {},
     "outputs": [
      {
       "metadata": {},
       "output_type": "pyout",
       "prompt_number": 18,
       "text": [
        "F    5\n",
        "G    6\n",
        "H    7\n",
        "dtype: int64"
       ]
      }
     ],
     "prompt_number": 18
    },
    {
     "cell_type": "code",
     "collapsed": false,
     "input": [
      "s.iloc[2:7:2]"
     ],
     "language": "python",
     "metadata": {},
     "outputs": [
      {
       "metadata": {},
       "output_type": "pyout",
       "prompt_number": 19,
       "text": [
        "C    2\n",
        "E    4\n",
        "G    6\n",
        "dtype: int64"
       ]
      }
     ],
     "prompt_number": 19
    },
    {
     "cell_type": "markdown",
     "metadata": {},
     "source": [
      "`Series` also lets us do of numpy-style broadcasting operations."
     ]
    },
    {
     "cell_type": "code",
     "collapsed": false,
     "input": [
      "sines = pd.Series(np.sin(np.linspace(0, 3.14, 10)), name='sines')\n",
      "cosines = pd.Series(np.cos(np.linspace(0, 3.14, 10)), name='cosines')\n",
      "print sines\n",
      "print cosines"
     ],
     "language": "python",
     "metadata": {},
     "outputs": [
      {
       "output_type": "stream",
       "stream": "stdout",
       "text": [
        "0    0.000000\n",
        "1    0.341854\n",
        "2    0.642516\n",
        "3    0.865760\n",
        "4    0.984685\n",
        "5    0.984961\n",
        "6    0.866556\n",
        "7    0.643736\n",
        "8    0.343350\n",
        "9    0.001593\n",
        "Name: sines, dtype: float64\n",
        "0    1.000000\n",
        "1    0.939753\n",
        "2    0.766272\n",
        "3    0.500460\n",
        "4    0.174345\n",
        "5   -0.172777\n",
        "6   -0.499080\n",
        "7   -0.765248\n",
        "8   -0.939207\n",
        "9   -0.999999\n",
        "Name: cosines, dtype: float64\n"
       ]
      }
     ],
     "prompt_number": 20
    },
    {
     "cell_type": "code",
     "collapsed": false,
     "input": [
      "cosines * sines"
     ],
     "language": "python",
     "metadata": {},
     "outputs": [
      {
       "metadata": {},
       "output_type": "pyout",
       "prompt_number": 21,
       "text": [
        "0    0.000000\n",
        "1    0.321258\n",
        "2    0.492342\n",
        "3    0.433278\n",
        "4    0.171675\n",
        "5   -0.170178\n",
        "6   -0.432481\n",
        "7   -0.492617\n",
        "8   -0.322477\n",
        "9   -0.001593\n",
        "dtype: float64"
       ]
      }
     ],
     "prompt_number": 21
    },
    {
     "cell_type": "code",
     "collapsed": false,
     "input": [
      "cosines / sines"
     ],
     "language": "python",
     "metadata": {},
     "outputs": [
      {
       "metadata": {},
       "output_type": "pyout",
       "prompt_number": 22,
       "text": [
        "0           inf\n",
        "1      2.748991\n",
        "2      1.192611\n",
        "3      0.578058\n",
        "4      0.177057\n",
        "5     -0.175415\n",
        "6     -0.575935\n",
        "7     -1.188760\n",
        "8     -2.735422\n",
        "9   -627.882398\n",
        "dtype: float64"
       ]
      }
     ],
     "prompt_number": 22
    },
    {
     "cell_type": "code",
     "collapsed": false,
     "input": [
      "# We can apply arbitrary functions across a `Series` values.\n",
      "def first_digit(N):\n",
      "    return int(abs(N) % 1 * 10)\n",
      "first_digits = sines.apply(first_digit)\n",
      "first_digits"
     ],
     "language": "python",
     "metadata": {},
     "outputs": [
      {
       "metadata": {},
       "output_type": "pyout",
       "prompt_number": 23,
       "text": [
        "0    0\n",
        "1    3\n",
        "2    6\n",
        "3    8\n",
        "4    9\n",
        "5    9\n",
        "6    8\n",
        "7    6\n",
        "8    3\n",
        "9    0\n",
        "Name: sines, dtype: int64"
       ]
      }
     ],
     "prompt_number": 23
    },
    {
     "cell_type": "markdown",
     "metadata": {},
     "source": [
      "Boolean-valued `Series` are particularly useful."
     ]
    },
    {
     "cell_type": "code",
     "collapsed": false,
     "input": [
      "# We can use any comparison operator (<, >, <=, >=, ==) to turn two Series of\n",
      "# comparables into a Series of Booleans.\n",
      "sines > cosines"
     ],
     "language": "python",
     "metadata": {},
     "outputs": [
      {
       "metadata": {},
       "output_type": "pyout",
       "prompt_number": 24,
       "text": [
        "0    False\n",
        "1    False\n",
        "2    False\n",
        "3     True\n",
        "4     True\n",
        "5     True\n",
        "6     True\n",
        "7     True\n",
        "8     True\n",
        "9     True\n",
        "dtype: bool"
       ]
      }
     ],
     "prompt_number": 24
    },
    {
     "cell_type": "code",
     "collapsed": false,
     "input": [
      "# Scalar comparisons do a comparison with each element.\n",
      "sines_greater_than_half = sines > .5\n",
      "sines_greater_than_half"
     ],
     "language": "python",
     "metadata": {},
     "outputs": [
      {
       "metadata": {},
       "output_type": "pyout",
       "prompt_number": 25,
       "text": [
        "0    False\n",
        "1    False\n",
        "2     True\n",
        "3     True\n",
        "4     True\n",
        "5     True\n",
        "6     True\n",
        "7     True\n",
        "8    False\n",
        "9    False\n",
        "Name: sines, dtype: bool"
       ]
      }
     ],
     "prompt_number": 25
    },
    {
     "cell_type": "code",
     "collapsed": false,
     "input": [
      "# We can use the usual logical operators (&, |, ^, ~) to combine Boolean Series.\n",
      "~sines_greater_than_half"
     ],
     "language": "python",
     "metadata": {},
     "outputs": [
      {
       "metadata": {},
       "output_type": "pyout",
       "prompt_number": 26,
       "text": [
        "0     True\n",
        "1     True\n",
        "2    False\n",
        "3    False\n",
        "4    False\n",
        "5    False\n",
        "6    False\n",
        "7    False\n",
        "8     True\n",
        "9     True\n",
        "Name: sines, dtype: bool"
       ]
      }
     ],
     "prompt_number": 26
    },
    {
     "cell_type": "code",
     "collapsed": false,
     "input": [
      "# Indexing into a series with a boolean Series masks away the values which were\n",
      "# false in the passed Series.\n",
      "sines[sines_greater_than_half]"
     ],
     "language": "python",
     "metadata": {},
     "outputs": [
      {
       "metadata": {},
       "output_type": "pyout",
       "prompt_number": 27,
       "text": [
        "2    0.642516\n",
        "3    0.865760\n",
        "4    0.984685\n",
        "5    0.984961\n",
        "6    0.866556\n",
        "7    0.643736\n",
        "Name: sines, dtype: float64"
       ]
      }
     ],
     "prompt_number": 27
    },
    {
     "cell_type": "code",
     "collapsed": false,
     "input": [
      "# We can combine these operators to concisely express complex\n",
      "# computations/filters.\n",
      "sines[(sines > cosines) & (sines < .4)]"
     ],
     "language": "python",
     "metadata": {},
     "outputs": [
      {
       "metadata": {},
       "output_type": "pyout",
       "prompt_number": 28,
       "text": [
        "8    0.343350\n",
        "9    0.001593\n",
        "Name: sines, dtype: float64"
       ]
      }
     ],
     "prompt_number": 28
    },
    {
     "cell_type": "markdown",
     "metadata": {},
     "source": [
      "# Working with Time Series Data"
     ]
    },
    {
     "cell_type": "code",
     "collapsed": false,
     "input": [
      "# Pandas has a special index class, `DatetimeIndex`, for representing\n",
      "# TimeSeries data.\n",
      "start = pd.Timestamp('2014-01-01', tz='UTC')\n",
      "end = pd.Timestamp('2014-01-09', tz='UTC')\n",
      "\n",
      "# date_range is an easy way to construct a DatetimeIndex\n",
      "daily_index = pd.date_range(start, end)\n",
      "daily_index"
     ],
     "language": "python",
     "metadata": {},
     "outputs": [
      {
       "metadata": {},
       "output_type": "pyout",
       "prompt_number": 29,
       "text": [
        "<class 'pandas.tseries.index.DatetimeIndex'>\n",
        "[2014-01-01, ..., 2014-01-09]\n",
        "Length: 9, Freq: D, Timezone: UTC"
       ]
      }
     ],
     "prompt_number": 29
    },
    {
     "cell_type": "code",
     "collapsed": false,
     "input": [
      "# DatetimeIndex has a notion of its Frequency.\n",
      "from pandas.tseries.offsets import Day, Hour, BDay\n",
      "\n",
      "hourly_index = pd.date_range(\n",
      "    pd.Timestamp('2014-01-01', tz='UTC'),\n",
      "    pd.Timestamp('2014-01-9', tz='UTC'),\n",
      "    freq=Hour(),\n",
      ")\n",
      "hourly_index"
     ],
     "language": "python",
     "metadata": {},
     "outputs": [
      {
       "metadata": {},
       "output_type": "pyout",
       "prompt_number": 30,
       "text": [
        "<class 'pandas.tseries.index.DatetimeIndex'>\n",
        "[2014-01-01 00:00:00+00:00, ..., 2014-01-09 00:00:00+00:00]\n",
        "Length: 193, Freq: H, Timezone: UTC"
       ]
      }
     ],
     "prompt_number": 30
    },
    {
     "cell_type": "code",
     "collapsed": false,
     "input": [
      "bihourly_index = pd.date_range(\n",
      "    pd.Timestamp('2014-01-01', tz='UTC'),\n",
      "    pd.Timestamp('2014-01-09', tz='UTC'),\n",
      "    freq=Hour(2),\n",
      ")\n",
      "bihourly_index"
     ],
     "language": "python",
     "metadata": {},
     "outputs": [
      {
       "metadata": {},
       "output_type": "pyout",
       "prompt_number": 31,
       "text": [
        "<class 'pandas.tseries.index.DatetimeIndex'>\n",
        "[2014-01-01 00:00:00+00:00, ..., 2014-01-09 00:00:00+00:00]\n",
        "Length: 97, Freq: 2H, Timezone: UTC"
       ]
      }
     ],
     "prompt_number": 31
    },
    {
     "cell_type": "code",
     "collapsed": false,
     "input": [
      "weekday_index = pd.date_range(\n",
      "    pd.Timestamp('2014-01-01', tz='UTC'),\n",
      "    pd.Timestamp('2014-01-09', tz='UTC'),\n",
      "    freq=BDay(),\n",
      ")\n",
      "print weekday_index\n",
      "[i for i in weekday_index]"
     ],
     "language": "python",
     "metadata": {},
     "outputs": [
      {
       "output_type": "stream",
       "stream": "stdout",
       "text": [
        "<class 'pandas.tseries.index.DatetimeIndex'>\n",
        "[2014-01-01, ..., 2014-01-09]\n",
        "Length: 7, Freq: B, Timezone: UTC\n"
       ]
      },
      {
       "metadata": {},
       "output_type": "pyout",
       "prompt_number": 32,
       "text": [
        "[Timestamp('2014-01-01 00:00:00+0000', tz='UTC', offset='B'),\n",
        " Timestamp('2014-01-02 00:00:00+0000', tz='UTC', offset='B'),\n",
        " Timestamp('2014-01-03 00:00:00+0000', tz='UTC', offset='B'),\n",
        " Timestamp('2014-01-06 00:00:00+0000', tz='UTC', offset='B'),\n",
        " Timestamp('2014-01-07 00:00:00+0000', tz='UTC', offset='B'),\n",
        " Timestamp('2014-01-08 00:00:00+0000', tz='UTC', offset='B'),\n",
        " Timestamp('2014-01-09 00:00:00+0000', tz='UTC', offset='B')]"
       ]
      }
     ],
     "prompt_number": 32
    },
    {
     "cell_type": "markdown",
     "metadata": {},
     "source": [
      "If your `Series` has a `DatetimeIndex`, then you immediately get access to\n",
      "sophisticated resampling tools."
     ]
    },
    {
     "cell_type": "code",
     "collapsed": false,
     "input": [
      "ts = pd.Series(\n",
      "    np.arange(30) ** 2,\n",
      "    pd.date_range(\n",
      "        start=pd.Timestamp('2014-01-01', tz='UTC'),\n",
      "        freq='1D',\n",
      "        periods=30,\n",
      "    )\n",
      ")\n",
      "ts.plot()"
     ],
     "language": "python",
     "metadata": {},
     "outputs": [
      {
       "metadata": {},
       "output_type": "pyout",
       "prompt_number": 34,
       "text": [
        "<matplotlib.axes.AxesSubplot at 0x104d28750>"
       ]
      },
      {
       "metadata": {},
       "output_type": "display_data",
       "png": "[encoded data removed]",
       "text": [
        "<matplotlib.figure.Figure at 0x104d2bd50>"
       ]
      }
     ],
     "prompt_number": 34
    },
    {
     "cell_type": "code",
     "collapsed": false,
     "input": [
      "# By default, to a lower frequency takes the mean of the entries that were\n",
      "# downsampled.\n",
      "resampled = ts.resample('5D', 'mean')\n",
      "resampled"
     ],
     "language": "python",
     "metadata": {},
     "outputs": [
      {
       "metadata": {},
       "output_type": "pyout",
       "prompt_number": 35,
       "text": [
        "2014-01-01 00:00:00+00:00      6\n",
        "2014-01-06 00:00:00+00:00     51\n",
        "2014-01-11 00:00:00+00:00    146\n",
        "2014-01-16 00:00:00+00:00    291\n",
        "2014-01-21 00:00:00+00:00    486\n",
        "2014-01-26 00:00:00+00:00    731\n",
        "Freq: 5D, dtype: int64"
       ]
      }
     ],
     "prompt_number": 35
    },
    {
     "cell_type": "code",
     "collapsed": false,
     "input": [
      "# We can change this behavior though.\n",
      "resampled_first = ts.resample('5D', how='first')\n",
      "resampled_first"
     ],
     "language": "python",
     "metadata": {},
     "outputs": [
      {
       "metadata": {},
       "output_type": "pyout",
       "prompt_number": 36,
       "text": [
        "2014-01-01 00:00:00+00:00      0\n",
        "2014-01-06 00:00:00+00:00     25\n",
        "2014-01-11 00:00:00+00:00    100\n",
        "2014-01-16 00:00:00+00:00    225\n",
        "2014-01-21 00:00:00+00:00    400\n",
        "2014-01-26 00:00:00+00:00    625\n",
        "Freq: 5D, dtype: int64"
       ]
      }
     ],
     "prompt_number": 36
    },
    {
     "cell_type": "code",
     "collapsed": false,
     "input": [
      "resampled_last = ts.resample('5D', how='last')\n",
      "resampled_last"
     ],
     "language": "python",
     "metadata": {},
     "outputs": [
      {
       "metadata": {},
       "output_type": "pyout",
       "prompt_number": 37,
       "text": [
        "2014-01-01 00:00:00+00:00     16\n",
        "2014-01-06 00:00:00+00:00     81\n",
        "2014-01-11 00:00:00+00:00    196\n",
        "2014-01-16 00:00:00+00:00    361\n",
        "2014-01-21 00:00:00+00:00    576\n",
        "2014-01-26 00:00:00+00:00    841\n",
        "Freq: 5D, dtype: int64"
       ]
      }
     ],
     "prompt_number": 37
    },
    {
     "cell_type": "code",
     "collapsed": false,
     "input": [
      "# We can even define our own custom sampling methods.\n",
      "def geometric_mean(subseries):\n",
      "    return np.product(subseries.values) ** (1.0 / len(subseries))\n",
      "resampled_geometric = ts.resample('5D', how=geometric_mean)\n",
      "print resampled_geometric"
     ],
     "language": "python",
     "metadata": {},
     "outputs": [
      {
       "output_type": "stream",
       "stream": "stdout",
       "text": [
        "2014-01-01 00:00:00+00:00      0.000000\n",
        "2014-01-06 00:00:00+00:00     46.970017\n",
        "2014-01-11 00:00:00+00:00    141.990120\n",
        "2014-01-16 00:00:00+00:00    286.995117\n",
        "2014-01-21 00:00:00+00:00    481.997094\n",
        "2014-01-26 00:00:00+00:00    726.998074\n",
        "Freq: 5D, dtype: float64\n"
       ]
      }
     ],
     "prompt_number": 38
    },
    {
     "cell_type": "code",
     "collapsed": false,
     "input": [
      "pd.DataFrame(\n",
      "    {\n",
      "        \"resampled\": resampled,\n",
      "        \"resampled_first\": resampled_first,\n",
      "        \"resampled_last\": resampled_last,\n",
      "        \"resampled_geometric\": resampled_geometric,\n",
      "    }\n",
      ").plot()"
     ],
     "language": "python",
     "metadata": {},
     "outputs": [
      {
       "metadata": {},
       "output_type": "pyout",
       "prompt_number": 39,
       "text": [
        "<matplotlib.axes.AxesSubplot at 0x104d63350>"
       ]
      },
      {
       "metadata": {},
       "output_type": "display_data",
       "png": "[encoded data removed]",
       "text": [
        "<matplotlib.figure.Figure at 0x104d2f4d0>"
       ]
      }
     ],
     "prompt_number": 39
    },
    {
     "cell_type": "code",
     "collapsed": false,
     "input": [
      "# Upsampling creates missing data, which is represented by numpy.nan.\n",
      "ts.resample('6H')"
     ],
     "language": "python",
     "metadata": {},
     "outputs": [
      {
       "metadata": {},
       "output_type": "pyout",
       "prompt_number": 40,
       "text": [
        "2014-01-01 00:00:00+00:00     0\n",
        "2014-01-01 06:00:00+00:00   NaN\n",
        "2014-01-01 12:00:00+00:00   NaN\n",
        "2014-01-01 18:00:00+00:00   NaN\n",
        "2014-01-02 00:00:00+00:00     1\n",
        "2014-01-02 06:00:00+00:00   NaN\n",
        "2014-01-02 12:00:00+00:00   NaN\n",
        "2014-01-02 18:00:00+00:00   NaN\n",
        "2014-01-03 00:00:00+00:00     4\n",
        "2014-01-03 06:00:00+00:00   NaN\n",
        "2014-01-03 12:00:00+00:00   NaN\n",
        "2014-01-03 18:00:00+00:00   NaN\n",
        "2014-01-04 00:00:00+00:00     9\n",
        "2014-01-04 06:00:00+00:00   NaN\n",
        "2014-01-04 12:00:00+00:00   NaN\n",
        "...\n",
        "2014-01-26 12:00:00+00:00    NaN\n",
        "2014-01-26 18:00:00+00:00    NaN\n",
        "2014-01-27 00:00:00+00:00    676\n",
        "2014-01-27 06:00:00+00:00    NaN\n",
        "2014-01-27 12:00:00+00:00    NaN\n",
        "2014-01-27 18:00:00+00:00    NaN\n",
        "2014-01-28 00:00:00+00:00    729\n",
        "2014-01-28 06:00:00+00:00    NaN\n",
        "2014-01-28 12:00:00+00:00    NaN\n",
        "2014-01-28 18:00:00+00:00    NaN\n",
        "2014-01-29 00:00:00+00:00    784\n",
        "2014-01-29 06:00:00+00:00    NaN\n",
        "2014-01-29 12:00:00+00:00    NaN\n",
        "2014-01-29 18:00:00+00:00    NaN\n",
        "2014-01-30 00:00:00+00:00    841\n",
        "Freq: 6H, Length: 117"
       ]
      }
     ],
     "prompt_number": 40
    },
    {
     "cell_type": "markdown",
     "metadata": {},
     "source": [
      "We can handle missing data in a variety of ways."
     ]
    },
    {
     "cell_type": "code",
     "collapsed": false,
     "input": [
      "# We can fill empty values with fillna.\n",
      "zero_filled = ts.resample('6H').fillna(0)\n",
      "print zero_filled"
     ],
     "language": "python",
     "metadata": {},
     "outputs": [
      {
       "output_type": "stream",
       "stream": "stdout",
       "text": [
        "2014-01-01 00:00:00+00:00    0\n",
        "2014-01-01 06:00:00+00:00    0\n",
        "2014-01-01 12:00:00+00:00    0\n",
        "2014-01-01 18:00:00+00:00    0\n",
        "2014-01-02 00:00:00+00:00    1\n",
        "2014-01-02 06:00:00+00:00    0\n",
        "2014-01-02 12:00:00+00:00    0\n",
        "2014-01-02 18:00:00+00:00    0\n",
        "2014-01-03 00:00:00+00:00    4\n",
        "2014-01-03 06:00:00+00:00    0\n",
        "2014-01-03 12:00:00+00:00    0\n",
        "2014-01-03 18:00:00+00:00    0\n",
        "2014-01-04 00:00:00+00:00    9\n",
        "2014-01-04 06:00:00+00:00    0\n",
        "2014-01-04 12:00:00+00:00    0\n",
        "...\n",
        "2014-01-26 12:00:00+00:00      0\n",
        "2014-01-26 18:00:00+00:00      0\n",
        "2014-01-27 00:00:00+00:00    676\n",
        "2014-01-27 06:00:00+00:00      0\n",
        "2014-01-27 12:00:00+00:00      0\n",
        "2014-01-27 18:00:00+00:00      0\n",
        "2014-01-28 00:00:00+00:00    729\n",
        "2014-01-28 06:00:00+00:00      0\n",
        "2014-01-28 12:00:00+00:00      0\n",
        "2014-01-28 18:00:00+00:00      0\n",
        "2014-01-29 00:00:00+00:00    784\n",
        "2014-01-29 06:00:00+00:00      0\n",
        "2014-01-29 12:00:00+00:00      0\n",
        "2014-01-29 18:00:00+00:00      0\n",
        "2014-01-30 00:00:00+00:00    841\n",
        "Freq: 6H, Length: 117\n"
       ]
      }
     ],
     "prompt_number": 41
    },
    {
     "cell_type": "code",
     "collapsed": false,
     "input": [
      "# We can forward-fill with the last known prior value.\n",
      "ffilled = ts.resample('6H').ffill()\n",
      "print ffilled"
     ],
     "language": "python",
     "metadata": {},
     "outputs": [
      {
       "output_type": "stream",
       "stream": "stdout",
       "text": [
        "2014-01-01 00:00:00+00:00    0\n",
        "2014-01-01 06:00:00+00:00    0\n",
        "2014-01-01 12:00:00+00:00    0\n",
        "2014-01-01 18:00:00+00:00    0\n",
        "2014-01-02 00:00:00+00:00    1\n",
        "2014-01-02 06:00:00+00:00    1\n",
        "2014-01-02 12:00:00+00:00    1\n",
        "2014-01-02 18:00:00+00:00    1\n",
        "2014-01-03 00:00:00+00:00    4\n",
        "2014-01-03 06:00:00+00:00    4\n",
        "2014-01-03 12:00:00+00:00    4\n",
        "2014-01-03 18:00:00+00:00    4\n",
        "2014-01-04 00:00:00+00:00    9\n",
        "2014-01-04 06:00:00+00:00    9\n",
        "2014-01-04 12:00:00+00:00    9\n",
        "...\n",
        "2014-01-26 12:00:00+00:00    625\n",
        "2014-01-26 18:00:00+00:00    625\n",
        "2014-01-27 00:00:00+00:00    676\n",
        "2014-01-27 06:00:00+00:00    676\n",
        "2014-01-27 12:00:00+00:00    676\n",
        "2014-01-27 18:00:00+00:00    676\n",
        "2014-01-28 00:00:00+00:00    729\n",
        "2014-01-28 06:00:00+00:00    729\n",
        "2014-01-28 12:00:00+00:00    729\n",
        "2014-01-28 18:00:00+00:00    729\n",
        "2014-01-29 00:00:00+00:00    784\n",
        "2014-01-29 06:00:00+00:00    784\n",
        "2014-01-29 12:00:00+00:00    784\n",
        "2014-01-29 18:00:00+00:00    784\n",
        "2014-01-30 00:00:00+00:00    841\n",
        "Freq: 6H, Length: 117\n"
       ]
      }
     ],
     "prompt_number": 42
    },
    {
     "cell_type": "code",
     "collapsed": false,
     "input": [
      "# We can backfill with earliest known next value.\n",
      "bfilled = ts.resample('6H').bfill()\n",
      "print bfilled"
     ],
     "language": "python",
     "metadata": {},
     "outputs": [
      {
       "output_type": "stream",
       "stream": "stdout",
       "text": [
        "2014-01-01 00:00:00+00:00     0\n",
        "2014-01-01 06:00:00+00:00     1\n",
        "2014-01-01 12:00:00+00:00     1\n",
        "2014-01-01 18:00:00+00:00     1\n",
        "2014-01-02 00:00:00+00:00     1\n",
        "2014-01-02 06:00:00+00:00     4\n",
        "2014-01-02 12:00:00+00:00     4\n",
        "2014-01-02 18:00:00+00:00     4\n",
        "2014-01-03 00:00:00+00:00     4\n",
        "2014-01-03 06:00:00+00:00     9\n",
        "2014-01-03 12:00:00+00:00     9\n",
        "2014-01-03 18:00:00+00:00     9\n",
        "2014-01-04 00:00:00+00:00     9\n",
        "2014-01-04 06:00:00+00:00    16\n",
        "2014-01-04 12:00:00+00:00    16\n",
        "...\n",
        "2014-01-26 12:00:00+00:00    676\n",
        "2014-01-26 18:00:00+00:00    676\n",
        "2014-01-27 00:00:00+00:00    676\n",
        "2014-01-27 06:00:00+00:00    729\n",
        "2014-01-27 12:00:00+00:00    729\n",
        "2014-01-27 18:00:00+00:00    729\n",
        "2014-01-28 00:00:00+00:00    729\n",
        "2014-01-28 06:00:00+00:00    784\n",
        "2014-01-28 12:00:00+00:00    784\n",
        "2014-01-28 18:00:00+00:00    784\n",
        "2014-01-29 00:00:00+00:00    784\n",
        "2014-01-29 06:00:00+00:00    841\n",
        "2014-01-29 12:00:00+00:00    841\n",
        "2014-01-29 18:00:00+00:00    841\n",
        "2014-01-30 00:00:00+00:00    841\n",
        "Freq: 6H, Length: 117\n"
       ]
      }
     ],
     "prompt_number": 43
    },
    {
     "cell_type": "code",
     "collapsed": false,
     "input": [
      "# We can interpolate between known values.\n",
      "\n",
      "# Note: `interpolate` is new as of pandas 0.14.0\n",
      "# Quantopian is currently on pandas 0.12.0 due to breaking changes in the\n",
      "# pandas API in 0.13.0.\n",
      "linear_interpolated = ts.resample('6H').interpolate()\n",
      "linear_interpolated"
     ],
     "language": "python",
     "metadata": {},
     "outputs": [
      {
       "metadata": {},
       "output_type": "pyout",
       "prompt_number": 44,
       "text": [
        "2014-01-01 00:00:00+00:00     0.00\n",
        "2014-01-01 06:00:00+00:00     0.25\n",
        "2014-01-01 12:00:00+00:00     0.50\n",
        "2014-01-01 18:00:00+00:00     0.75\n",
        "2014-01-02 00:00:00+00:00     1.00\n",
        "2014-01-02 06:00:00+00:00     1.75\n",
        "2014-01-02 12:00:00+00:00     2.50\n",
        "2014-01-02 18:00:00+00:00     3.25\n",
        "2014-01-03 00:00:00+00:00     4.00\n",
        "2014-01-03 06:00:00+00:00     5.25\n",
        "2014-01-03 12:00:00+00:00     6.50\n",
        "2014-01-03 18:00:00+00:00     7.75\n",
        "2014-01-04 00:00:00+00:00     9.00\n",
        "2014-01-04 06:00:00+00:00    10.75\n",
        "2014-01-04 12:00:00+00:00    12.50\n",
        "...\n",
        "2014-01-26 12:00:00+00:00    650.50\n",
        "2014-01-26 18:00:00+00:00    663.25\n",
        "2014-01-27 00:00:00+00:00    676.00\n",
        "2014-01-27 06:00:00+00:00    689.25\n",
        "2014-01-27 12:00:00+00:00    702.50\n",
        "2014-01-27 18:00:00+00:00    715.75\n",
        "2014-01-28 00:00:00+00:00    729.00\n",
        "2014-01-28 06:00:00+00:00    742.75\n",
        "2014-01-28 12:00:00+00:00    756.50\n",
        "2014-01-28 18:00:00+00:00    770.25\n",
        "2014-01-29 00:00:00+00:00    784.00\n",
        "2014-01-29 06:00:00+00:00    798.25\n",
        "2014-01-29 12:00:00+00:00    812.50\n",
        "2014-01-29 18:00:00+00:00    826.75\n",
        "2014-01-30 00:00:00+00:00    841.00\n",
        "Freq: 6H, Length: 117"
       ]
      }
     ],
     "prompt_number": 44
    },
    {
     "cell_type": "code",
     "collapsed": false,
     "input": [
      "quadratic_interpolated = ts.resample('6H').interpolate('polynomial', order=2)\n",
      "quadratic_interpolated\n",
      "# Note: `interpolate` is new as of pandas 0.14.0\n",
      "# Quantopian is currently on pandas 0.12.0 due to breaking changes in the\n",
      "# pandas API in 0.13.0."
     ],
     "language": "python",
     "metadata": {},
     "outputs": [
      {
       "metadata": {},
       "output_type": "pyout",
       "prompt_number": 45,
       "text": [
        "2014-01-01 00:00:00+00:00     0.0000\n",
        "2014-01-01 06:00:00+00:00     0.0625\n",
        "2014-01-01 12:00:00+00:00     0.2500\n",
        "2014-01-01 18:00:00+00:00     0.5625\n",
        "2014-01-02 00:00:00+00:00     1.0000\n",
        "2014-01-02 06:00:00+00:00     1.5625\n",
        "2014-01-02 12:00:00+00:00     2.2500\n",
        "2014-01-02 18:00:00+00:00     3.0625\n",
        "2014-01-03 00:00:00+00:00     4.0000\n",
        "2014-01-03 06:00:00+00:00     5.0625\n",
        "2014-01-03 12:00:00+00:00     6.2500\n",
        "2014-01-03 18:00:00+00:00     7.5625\n",
        "2014-01-04 00:00:00+00:00     9.0000\n",
        "2014-01-04 06:00:00+00:00    10.5625\n",
        "2014-01-04 12:00:00+00:00    12.2500\n",
        "...\n",
        "2014-01-26 12:00:00+00:00    650.2500\n",
        "2014-01-26 18:00:00+00:00    663.0625\n",
        "2014-01-27 00:00:00+00:00    676.0000\n",
        "2014-01-27 06:00:00+00:00    689.0625\n",
        "2014-01-27 12:00:00+00:00    702.2500\n",
        "2014-01-27 18:00:00+00:00    715.5625\n",
        "2014-01-28 00:00:00+00:00    729.0000\n",
        "2014-01-28 06:00:00+00:00    742.5625\n",
        "2014-01-28 12:00:00+00:00    756.2500\n",
        "2014-01-28 18:00:00+00:00    770.0625\n",
        "2014-01-29 00:00:00+00:00    784.0000\n",
        "2014-01-29 06:00:00+00:00    798.0625\n",
        "2014-01-29 12:00:00+00:00    812.2500\n",
        "2014-01-29 18:00:00+00:00    826.5625\n",
        "2014-01-30 00:00:00+00:00    841.0000\n",
        "Freq: 6H, Length: 117"
       ]
      }
     ],
     "prompt_number": 45
    },
    {
     "cell_type": "code",
     "collapsed": false,
     "input": [
      "pd.DataFrame(\n",
      "    {\n",
      "        \"linear_interpolated\": linear_interpolated,\n",
      "        \"quadratic_interpolated\": quadratic_interpolated,\n",
      "        \"bfilled\": bfilled,\n",
      "        \"ffilled\": ffilled,\n",
      "        \"zero_filled\": zero_filled,\n",
      "    }\n",
      ").plot(figsize=(15, 7.5))"
     ],
     "language": "python",
     "metadata": {},
     "outputs": [
      {
       "metadata": {},
       "output_type": "pyout",
       "prompt_number": 46,
       "text": [
        "<matplotlib.axes.AxesSubplot at 0x105d2cdd0>"
       ]
      },
      {
       "metadata": {},
       "output_type": "display_data",
       "png": "[encoded data removed]",
       "text": [
        "<matplotlib.figure.Figure at 0x105d2c810>"
       ]
      }
     ],
     "prompt_number": 46
    },
    {
     "cell_type": "markdown",
     "metadata": {},
     "source": [
      "# `DataFrame` - 2D Series Arrays"
     ]
    },
    {
     "cell_type": "code",
     "collapsed": false,
     "input": [
      "# Oftentimes we have more than one axis on which we want to store data.\n",
      "prices = ((randn(10) + 1) ** 2)\n",
      "prices.sort()\n",
      "ohlcv = pd.DataFrame(\n",
      "    {\n",
      "        'open': prices * .98,\n",
      "        'close': prices * 1.02,\n",
      "        'low': prices * .95,\n",
      "        'high': prices * 1.05,\n",
      "        'volume': prices * 10,\n",
      "    },\n",
      "    index=pd.date_range(\n",
      "        start,\n",
      "        freq='1D',\n",
      "        periods=10,\n",
      "    ),\n",
      ")\n",
      "ohlcv"
     ],
     "language": "python",
     "metadata": {},
     "outputs": [
      {
       "html": [
        "<div style=\"max-height:1000px;max-width:1500px;overflow:auto;\">\n",
        "<table border=\"1\" class=\"dataframe\">\n",
        "  <thead>\n",
        "    <tr style=\"text-align: right;\">\n",
        "      <th></th>\n",
        "      <th>close</th>\n",
        "      <th>high</th>\n",
        "      <th>low</th>\n",
        "      <th>open</th>\n",
        "      <th>volume</th>\n",
        "    </tr>\n",
        "  </thead>\n",
        "  <tbody>\n",
        "    <tr>\n",
        "      <th>2014-01-01 00:00:00+00:00</th>\n",
        "      <td> 0.182615</td>\n",
        "      <td> 0.187986</td>\n",
        "      <td> 0.170082</td>\n",
        "      <td> 0.175453</td>\n",
        "      <td>  1.790339</td>\n",
        "    </tr>\n",
        "    <tr>\n",
        "      <th>2014-01-02 00:00:00+00:00</th>\n",
        "      <td> 0.222719</td>\n",
        "      <td> 0.229269</td>\n",
        "      <td> 0.207434</td>\n",
        "      <td> 0.213985</td>\n",
        "      <td>  2.183518</td>\n",
        "    </tr>\n",
        "    <tr>\n",
        "      <th>2014-01-03 00:00:00+00:00</th>\n",
        "      <td> 0.249233</td>\n",
        "      <td> 0.256563</td>\n",
        "      <td> 0.232128</td>\n",
        "      <td> 0.239459</td>\n",
        "      <td>  2.443457</td>\n",
        "    </tr>\n",
        "    <tr>\n",
        "      <th>2014-01-04 00:00:00+00:00</th>\n",
        "      <td> 0.313623</td>\n",
        "      <td> 0.322847</td>\n",
        "      <td> 0.292099</td>\n",
        "      <td> 0.301324</td>\n",
        "      <td>  3.074731</td>\n",
        "    </tr>\n",
        "    <tr>\n",
        "      <th>2014-01-05 00:00:00+00:00</th>\n",
        "      <td> 0.528177</td>\n",
        "      <td> 0.543712</td>\n",
        "      <td> 0.491930</td>\n",
        "      <td> 0.507465</td>\n",
        "      <td>  5.178210</td>\n",
        "    </tr>\n",
        "    <tr>\n",
        "      <th>2014-01-06 00:00:00+00:00</th>\n",
        "      <td> 0.774854</td>\n",
        "      <td> 0.797644</td>\n",
        "      <td> 0.721678</td>\n",
        "      <td> 0.744468</td>\n",
        "      <td>  7.596612</td>\n",
        "    </tr>\n",
        "    <tr>\n",
        "      <th>2014-01-07 00:00:00+00:00</th>\n",
        "      <td> 1.725046</td>\n",
        "      <td> 1.775783</td>\n",
        "      <td> 1.606660</td>\n",
        "      <td> 1.657397</td>\n",
        "      <td> 16.912215</td>\n",
        "    </tr>\n",
        "    <tr>\n",
        "      <th>2014-01-08 00:00:00+00:00</th>\n",
        "      <td> 2.086268</td>\n",
        "      <td> 2.147628</td>\n",
        "      <td> 1.943092</td>\n",
        "      <td> 2.004453</td>\n",
        "      <td> 20.453603</td>\n",
        "    </tr>\n",
        "    <tr>\n",
        "      <th>2014-01-09 00:00:00+00:00</th>\n",
        "      <td> 2.420196</td>\n",
        "      <td> 2.491379</td>\n",
        "      <td> 2.254105</td>\n",
        "      <td> 2.325287</td>\n",
        "      <td> 23.727416</td>\n",
        "    </tr>\n",
        "    <tr>\n",
        "      <th>2014-01-10 00:00:00+00:00</th>\n",
        "      <td> 2.674049</td>\n",
        "      <td> 2.752697</td>\n",
        "      <td> 2.490536</td>\n",
        "      <td> 2.569184</td>\n",
        "      <td> 26.216166</td>\n",
        "    </tr>\n",
        "  </tbody>\n",
        "</table>\n",
        "</div>"
       ],
       "metadata": {},
       "output_type": "pyout",
       "prompt_number": 47,
       "text": [
        "                              close      high       low      open     volume\n",
        "2014-01-01 00:00:00+00:00  0.182615  0.187986  0.170082  0.175453   1.790339\n",
        "2014-01-02 00:00:00+00:00  0.222719  0.229269  0.207434  0.213985   2.183518\n",
        "2014-01-03 00:00:00+00:00  0.249233  0.256563  0.232128  0.239459   2.443457\n",
        "2014-01-04 00:00:00+00:00  0.313623  0.322847  0.292099  0.301324   3.074731\n",
        "2014-01-05 00:00:00+00:00  0.528177  0.543712  0.491930  0.507465   5.178210\n",
        "2014-01-06 00:00:00+00:00  0.774854  0.797644  0.721678  0.744468   7.596612\n",
        "2014-01-07 00:00:00+00:00  1.725046  1.775783  1.606660  1.657397  16.912215\n",
        "2014-01-08 00:00:00+00:00  2.086268  2.147628  1.943092  2.004453  20.453603\n",
        "2014-01-09 00:00:00+00:00  2.420196  2.491379  2.254105  2.325287  23.727416\n",
        "2014-01-10 00:00:00+00:00  2.674049  2.752697  2.490536  2.569184  26.216166"
       ]
      }
     ],
     "prompt_number": 47
    },
    {
     "cell_type": "markdown",
     "metadata": {},
     "source": [
      "A `DataFrame` has two indices, representing row labels and column labels.\n",
      "Since these are `Index` objects, we can use all the same slicing tools we used\n",
      "when working with `Series`."
     ]
    },
    {
     "cell_type": "code",
     "collapsed": false,
     "input": [
      "# Simple [] access does a lookup by column label. The result is \"one dimension\n",
      "# smaller\".\n",
      "ohlcv['close']"
     ],
     "language": "python",
     "metadata": {},
     "outputs": [
      {
       "output_type": "pyout",
       "prompt_number": 181,
       "text": [
        "2014-01-01 00:00:00+00:00    0.004394\n",
        "2014-01-02 00:00:00+00:00    0.005441\n",
        "2014-01-03 00:00:00+00:00    0.620066\n",
        "2014-01-04 00:00:00+00:00    1.422702\n",
        "2014-01-05 00:00:00+00:00    1.498567\n",
        "2014-01-06 00:00:00+00:00    1.498589\n",
        "2014-01-07 00:00:00+00:00    3.039012\n",
        "2014-01-08 00:00:00+00:00    3.977170\n",
        "2014-01-09 00:00:00+00:00    4.579520\n",
        "2014-01-10 00:00:00+00:00    5.235403\n",
        "Freq: D, Name: close, dtype: float64"
       ]
      }
     ],
     "prompt_number": 181
    },
    {
     "cell_type": "code",
     "collapsed": false,
     "input": [
      "# We can do lookups by \n",
      "ohlcv['close']"
     ],
     "language": "python",
     "metadata": {},
     "outputs": []
    }
   ],
   "metadata": {}
  }
 ]
}