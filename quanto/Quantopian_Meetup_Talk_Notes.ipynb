{
 "metadata": {
  "kernelspec": {
   "codemirror_mode": {
    "name": "ipython",
    "version": 2
   },
   "display_name": "IPython (Python 2)",
   "language": "python",
   "name": "python2"
  },
  "name": "",
  "signature": "sha256:727983a7ac9d8ef7f464dabb7501013df70050f5013a10e703ea633d67202502"
 },
 "nbformat": 3,
 "nbformat_minor": 0,
 "worksheets": [
  {
   "cells": [
    {
     "cell_type": "markdown",
     "metadata": {},
     "source": [
      "1. Shell Notebook\n",
      "2. Notebook Notebook:\n",
      "\n",
      "   - What we just saw is awesome as an interactive shell, but not the best for:\n",
      "\n",
      "     1. Saving/Reusing Work:\n",
      "       - Don't want to have to keep a session open forever.\n",
      "       - No good way to share a session.\n",
      "       - `%edit` helps for writing larger chunks of code.\n",
      "\n",
      "     2. Minimal support for rich display.\n",
      "\n",
      "     3. Sometimes you want to include other content besides Python code\n",
      "     (e.g. instructions, annotations, diagrams...).\n",
      "\n",
      "   - Quit IPython, run `ipython notebook`.\n",
      "\n",
      "     - This runs a **notebook server**, which I can connect to by pointing my\n",
      "       browser (or another application that knows how to read the format) to\n",
      "       localhost on the appropriate port (default is 8888).\n",
      "\n",
      "2. Pandas Notebook\n",
      "\n",
      "3. Zipline Notebook\n",
      "\n",
      "4. Research Env Sneak Peek:\n",
      "\n",
      "   - We've seen that IPython Notebook acts as a nice middle ground between the\n",
      "     static nature of a script/library and the dynamic (but impermanent) nature\n",
      "     of a shell session.\n",
      "\n",
      "   - We've also seen that IPython Notebook enables sharing computation, which\n",
      "     includes not just Python code but also data visualizations, documentation,\n",
      "     and other content.\n",
      "\n",
      "   - And we've seen that we can use IPython Notebook with the state of the art\n",
      "     tools (like `pandas` and `zipline`) to get even more out of these tools.\n",
      "\n",
      "   - Said at the start that we're thinking now about how to make the research\n",
      "     process on Quantopian better...\n",
      "\n",
      "     - One of the most powerful features of notebook is the fact that it you\n",
      "       don't actually need to be running the notebook server to connect to and\n",
      "       edit a notebook.\n",
      "\n",
      "     - We want to make it possible for people to run notebooks on our computing\n",
      "       environment in a way that can still take advantage of all awesome data\n",
      "       sources and APIs that are currently only available on Quantopian.\n",
      "\n",
      "   - `get_pricing` notebook.\n",
      "   - `get_backtests` notebook.\n",
      "   - `local_csv` notebook.\n",
      "\n",
      "   - This project is in a **very** early alpha, but we're very excited about\n",
      "     the possibilities this opens up.  We're already starting to use the idea\n",
      "     of remote notebooks in our internal research and operations efforts."
     ]
    }
   ],
   "metadata": {}
  }
 ]
}