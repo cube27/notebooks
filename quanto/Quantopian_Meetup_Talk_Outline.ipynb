{
 "metadata": {
  "kernelspec": {
   "codemirror_mode": {
    "name": "ipython",
    "version": 2
   },
   "display_name": "IPython (Python 2)",
   "language": "python",
   "name": "python2"
  },
  "name": "",
  "signature": "sha256:7e2371ccb6aedc3ff6c939f51a6c7ba8650227d3d243a97864ce245a5c5497cd"
 },
 "nbformat": 3,
 "nbformat_minor": 0,
 "worksheets": [
  {
   "cells": [
    {
     "cell_type": "markdown",
     "metadata": {},
     "source": [
      "#Zipline, Pandas, and IPython Notebook: A Pythonic Toolbox for Quants"
     ]
    },
    {
     "cell_type": "markdown",
     "metadata": {},
     "source": [
      "<img align=\"right\"\n",
      "     style=\"margin-rightpx\"\n",
      "     src=\"https://www.python.org/static/community_logos/python-logo-master-v3-TM.png\"/>\n",
      "\n",
      "##Why Python?\n",
      "- Clear, concise, readable syntax.\n",
      "- Interactive shell is great for exploring data.\n",
      "- Strong support for stream-based programming allows for natural\n",
      "expression of out-of-memory computation.\n",
      "- Easy to interface with C/Fortran, directly or via `Cython`\n",
      "- Large, dedicated community for **scientific**, **numerical** and **high\n",
      "  performance** computing.\n",
      "  - `numpy`\n",
      "  - `scipy`\n",
      "  - `pandas`\n",
      "  - `ipython`"
     ]
    },
    {
     "cell_type": "markdown",
     "metadata": {},
     "source": [
      "##The Toolbox"
     ]
    },
    {
     "cell_type": "markdown",
     "metadata": {},
     "source": [
      "1. ###IPython and IPython Notebook\n",
      "  - **Takeaways**: \n",
      "    - IPython is a **Better Python Shell**\u2122 \n",
      "    - IPython Notebook allows you to create **saveable** and **shareable** interactive sessions.\n",
      "2. ###Pandas\n",
      "  - **Takeaways**:\n",
      "    - Pandas provides powerful **data structures** for tabular and time series data.\n",
      "    - If you understand `Series`, you understand `DataFrame` and `Panel`.\n",
      "3. ###Zipline\n",
      "  - **Takeaways**:\n",
      "    - Zipline is the **open source** backtesting engine that powers Quantopian.\n",
      "    - Anything you want to do on Quantopian that doesn't require our data, you can do with Zipline."
     ]
    },
    {
     "cell_type": "markdown",
     "metadata": {},
     "source": [
      "###Research on Quantopian\n",
      "  - **Takeaways**:\n",
      "    - Quantopian is bringing together the full toolbox, in one place, with access to our curated data sets and APIs for analyzing your Quantopian algorithms."
     ]
    }
   ],
   "metadata": {}
  }
 ]
}