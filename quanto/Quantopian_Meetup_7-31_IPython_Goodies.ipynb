{
 "metadata": {
  "name": "",
  "signature": "sha256:abac5d955b0cc6543c50c2b48a541a47df954db96beaabfbcdd2e6a54bfa4ca9"
 },
 "nbformat": 3,
 "nbformat_minor": 0,
 "worksheets": [
  {
   "cells": [
    {
     "cell_type": "code",
     "collapsed": false,
     "input": [
      "# This is a python execution cell.\n",
      "# Anything you could do in a python shell or script, you can do here.\n",
      "\n",
      "# To execute a cell, type CTRL-Enter.\n",
      "# You can also type SHIFT-Enter to execute and move to the next cell,\n",
      "# and you can type OPTION-Enter to execute and insert a new cell below.\n",
      "\n",
      "def foo():\n",
      "    print \"IPython Notebook is awesome!\"\n",
      "foo()\n",
      "\n",
      "# The last expression in a cell is always displayed as the cell's output when\n",
      "# it's executed.\n",
      "[1,2,3,4]"
     ],
     "language": "python",
     "outputs": [
      {
       "output_type": "stream",
       "stream": "stdout",
       "text": [
        "IPython Notebook is awesome!\n"
       ]
      },
      {
       "output_type": "pyout",
       "prompt_number": 13,
       "text": [
        "[1, 2, 3, 4]"
       ]
      }
     ],
     "prompt_number": 13
    },
    {
     "cell_type": "raw",
     "source": [
      "IPython Notebook supports more than just Python cells.  This is a raw text\n",
      "cell.  Use it to insert unformatted text between cells."
     ]
    },
    {
     "cell_type": "heading",
     "level": 1,
     "source": [
      "This is a level 1 header cell."
     ]
    },
    {
     "cell_type": "heading",
     "level": 2,
     "source": [
      "This is a level 2 header cell."
     ]
    },
    {
     "cell_type": "heading",
     "level": 3,
     "source": [
      "This is a level 3 header cell."
     ]
    },
    {
     "cell_type": "heading",
     "level": 4,
     "source": [
      "This is a level 4 header cell."
     ]
    },
    {
     "cell_type": "heading",
     "level": 5,
     "source": [
      "This is a level 5 header cell."
     ]
    },
    {
     "cell_type": "heading",
     "level": 6,
     "source": [
      "This is a level 6 header cell."
     ]
    },
    {
     "cell_type": "markdown",
     "source": [
      "This is a [Markdown](http://daringfireball.net/projects/markdown/) cell.\n",
      "\n",
      "> Markdown is a text-to-HTML conversion tool for web writers. Markdown allows\n",
      "  you to write using an easy-to-read, easy-to-write plain text format, then\n",
      "  convert it to structurally valid XHTML (or HTML).\n",
      "\n",
      "- Markdown supports bulleted lists.\n",
      "  - You can nest lists as deep as you want.\n",
      "    - List elements don't have to be text either.\n",
      "      - ![So much deeper!](http://static3.wikia.nocookie.net/__cb20130123200725/glee/images/6/6f/We-need-to-go-deeper_inception.jpg)\n",
      "  - Reasons to like Markdown:\n",
      "    1. It also supports numbered lists.\n",
      "    2. It has support for `code()` formatting.\n",
      "    3. It even has support for code blocks:\n",
      "\n",
      "            class  Monad m  where\n",
      "                (>>=)            :: m a -> (a -> m b) -> m b\n",
      "                (>>)             :: m a -> m b -> m b\n",
      "                return           :: a -> m a\n",
      "                fail             :: String -> m a\n",
      "                m >> k           =  m >>= \\_ -> k"
     ]
    },
    {
     "cell_type": "markdown",
     "source": [
      "Talk Notes\n",
      "==========\n",
      "\n",
      "1. Who is ~~John Galt~~ Scott Sanderson?\n",
      "  - Software Engineer at Quantopian.\n",
      "  - Early Zipline contributor.\n",
      "  - Regular Quantopian forum question-answerer.\n",
      "\n",
      "2. What is Quantopian?\n",
      "\n",
      "  - Platform that allows users to **develop**, **test**, and **deploy**\n",
      "    quantitative financial algorithms written in Python.\n",
      "\n",
      "  - Community where quants can share ideas, get help, and collaborate on\n",
      "    algorithms.\n",
      "\n",
      "  - What are we good at?\n",
      "\n",
      "    - Allowing people to write and test strategies that they already have.\n",
      "\n",
      "    - Allowing people to connect those strategies to the market to trade with\n",
      "      real money.\n",
      "\n",
      "  - What are we less good at?\n",
      "\n",
      "    - Providing tools for figuring out what my strategy should be in the first\n",
      "      place.\n",
      "\n",
      "      - Interactively exploring/visualizing relationships in data.\n",
      "      - Computations that take more than a minute.\n",
      "\n",
      "    - Allowing users to share stuff that isn't Python code or backtest results.\n",
      "\n",
      "    - Supporting ad-hoc incorporation of different data sources.\n",
      "      - `fetch_csv()` gets you some of the way there, but again, not great for\n",
      "        figuring out what your inputs should be in the first place.\n",
      "\n",
      "  - Why Python?\n",
      "    - Clear, concise, readable syntax. -> Great language for beginners.\n",
      "    - Interactive shell.\n",
      "    - Good interface with C/Fortran\n",
      "      - Large, dedicated community for **scientific**, **numerical** and **high\n",
      "        performance** computing.\n",
      "\n",
      "3. Outline for this"
     ]
    },
    {
     "cell_type": "markdown",
     "source": [
      "General Command-Line Navigation\n",
      "-------------------------------\n",
      "\n",
      "These commands aren't IPython-specific, but learning them will make your\n",
      "command-line life much better.  Commands listed in **bold** also work in\n",
      "`IPython Notebook`.\n",
      "\n",
      "- `CTRL-f` -> Move Cursor Forward One Character.\n",
      "- `CTRL-b` -> Move Cursor Backward One Character.\n",
      "- `META-f` -> Move Cursor Forward One Word.\n",
      "- `META-b` -> Move Cursor Backward One Word.\n",
      "- `CTRL-a` -> Move Cursor to Line Start.\n",
      "- `CTRL-e` -> Move Cursor to Line End.\n",
      "- `CTRL-k` -> Cut to End of Line.\n",
      "- `CTRL-y` -> Paste to End of Line.\n",
      "- `CTRL-r` -> Reverse Incremental Search (aka search history matching what you type).\n",
      "- `CTRL-p` -> Previous History Entry.\n",
      "- `CTRL-n` -> Next History Entry.\n",
      "- `CTRL-l` -> Clear Screen.\n",
      "- `CTRL-c` -> Interrupt Current Expression.\n",
      "- `CTRL-d` -> Shutdown."
     ]
    },
    {
     "cell_type": "markdown",
     "source": [
      "IPython Magics:\n",
      "---------------\n",
      "(Note: If you have the %automagic setting turned on, you can\n",
      " omit the % from these commands.)\n",
      "\n",
      "- IPython as Shell Replacement:\n",
      "\n",
      "  - Builtin Aliases For Shell Commands\n",
      "    - `%cd`               -> Change Directory.\n",
      "    - `%ls`               -> List Directory Content.\n",
      "    - `%env`              -> List Environment Variables.\n",
      "    - `%cat`              -> Print Contents of File.\n",
      "    - `%pycat`            -> Pretty-Print Contents of Python File.\n",
      "    - `%mv`               -> Move a File/Directory.\n",
      "    - `%rm`               -> Remove a File/Directory.\n",
      "    - `%mkdir`            -> Make a directory.\n",
      "    - `%man`              -> View a man page."
     ]
    },
    {
     "cell_type": "markdown",
     "source": [
      "  - General Commands:\n",
      "    - `%alias <alias-name> <command>` -> Bind an alias to a command.\n",
      "    - `! <command>`                   -> Run <command>, printing its output.\n",
      "    - `!! <command>`                  -> Run <command>, capturing its output as a list.\n",
      "      - Example: `bash_pids = !! ps | grep bash | cut -d't' -f1`"
     ]
    },
    {
     "cell_type": "markdown",
     "source": [
      "- Reusing/Sharing Shell Sessions:\n",
      "  - `%hist`               -> Show all the commands that have been typed this session.\n",
      "  - `%macro`              -> Bind a set of previously executed lines to macro name.\n",
      "  - Logging:\n",
      "    - `%logstart`           -> Start Logging Commands to a Local File\n",
      "    - `%logon/logoff`    -> Toggle Logging on/off.\n",
      "    - `%logstate`           -> Get the current logging state.\n",
      "  - %pastebin           -> Upload the contents of a string/macro/file to Gist, returning the URL."
     ]
    },
    {
     "cell_type": "heading",
     "level": 2,
     "source": [
      "IPython Notebook:"
     ]
    },
    {
     "cell_type": "code",
     "collapsed": false,
     "input": [
      "TODO: Notebook-specific features.\n",
      " - Shareability.\n",
      " - Cell-magics.\n",
      " - Extensible Kernel.\n",
      " - HTML Display\n",
      " - Completion/Parameter Help\n",
      " - Extensions\n",
      " - nbconvert"
     ],
     "language": "python",
     "outputs": []
    }
   ]
  }
 ]
}